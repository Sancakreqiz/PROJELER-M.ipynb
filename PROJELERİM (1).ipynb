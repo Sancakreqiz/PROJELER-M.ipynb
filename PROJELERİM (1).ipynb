{
  "cells": [
    {
      "cell_type": "markdown",
      "source": [
        "# **SAYI TAHMİN OYUNU**"
      ],
      "metadata": {
        "id": "hm0qda1stHpK"
      }
    },
    {
      "cell_type": "code",
      "execution_count": null,
      "metadata": {
        "id": "Dv8GDtZg31vD",
        "colab": {
          "base_uri": "https://localhost:8080/"
        },
        "outputId": "a7a7ee94-5c6c-40cb-bf05-2c6d6d172684"
      },
      "outputs": [
        {
          "output_type": "stream",
          "name": "stdout",
          "text": [
            "Sayı Tahmin Oyununa Hoşgeldiniz\n",
            "1 ile 100 arasında bir sayı tahmin edin\n",
            "Tahmininiz doğruysa tebrikler, yanlışsa kalan hakkınızdan 1 eksilir\n",
            "Her yanlış tahminde 10 puan kaybedersiniz\n",
            "10 hakkınız var\n",
            "Bir sayı tahmin et: 50\n",
            "Tahmininiz doğru değil,daha küçük bir sayı deneyin\n",
            "Maalesef sayıyı yanlış bildiniz\n",
            "Kalan hakkınız: 9\n",
            "1 deneme yaptınız.\n",
            "Kalan Skorunuz:90\n",
            "Bir sayı tahmin et: 60\n",
            "Tahmininiz doğru değil,daha küçük bir sayı deneyin\n",
            "Maalesef sayıyı yanlış bildiniz\n",
            "Kalan hakkınız: 8\n",
            "2 deneme yaptınız.\n",
            "Kalan Skorunuz:80\n",
            "Bir sayı tahmin et: 55\n",
            "Tahmininiz doğru değil,daha küçük bir sayı deneyin\n",
            "Maalesef sayıyı yanlış bildiniz\n",
            "Kalan hakkınız: 7\n",
            "3 deneme yaptınız.\n",
            "Kalan Skorunuz:70\n",
            "Bir sayı tahmin et: 52\n",
            "Tahmininiz doğru değil,daha küçük bir sayı deneyin\n",
            "Maalesef sayıyı yanlış bildiniz\n",
            "Kalan hakkınız: 6\n",
            "4 deneme yaptınız.\n",
            "Kalan Skorunuz:60\n",
            "Bir sayı tahmin et: 51\n",
            "Tahmininiz doğru değil,daha küçük bir sayı deneyin\n",
            "Maalesef sayıyı yanlış bildiniz\n",
            "Kalan hakkınız: 5\n",
            "5 deneme yaptınız.\n",
            "Kalan Skorunuz:50\n",
            "Bir sayı tahmin et: 50\n",
            "Tahmininiz doğru değil,daha küçük bir sayı deneyin\n",
            "Maalesef sayıyı yanlış bildiniz\n",
            "Kalan hakkınız: 4\n",
            "6 deneme yaptınız.\n",
            "Kalan Skorunuz:40\n",
            "Bir sayı tahmin et: 40\n",
            "Tahmininiz doğru değil,daha büyük bir sayı deneyin\n",
            "Maalesef sayıyı yanlış bildiniz\n",
            "Kalan hakkınız: 3\n",
            "7 deneme yaptınız.\n",
            "Kalan Skorunuz:30\n",
            "Bir sayı tahmin et: 45\n",
            "Tahmininiz doğru değil,daha küçük bir sayı deneyin\n",
            "Maalesef sayıyı yanlış bildiniz\n",
            "Kalan hakkınız: 2\n",
            "8 deneme yaptınız.\n",
            "Kalan Skorunuz:20\n",
            "Bir sayı tahmin et: 42\n",
            "Tebrikler doğru bildiniz\n"
          ]
        }
      ],
      "source": [
        "#Sayı Tahmin Oyunu\n",
        "import random\n",
        "dogrunumara=random.randint(1,100)\n",
        "print(\"Sayı Tahmin Oyununa Hoşgeldiniz\")\n",
        "print(\"1 ile 100 arasında bir sayı tahmin edin\")\n",
        "print(\"Tahmininiz doğruysa tebrikler, yanlışsa kalan hakkınızdan 1 eksilir\")\n",
        "print(\"Her yanlış tahminde 10 puan kaybedersiniz\")\n",
        "print(\"10 hakkınız var\")\n",
        "\n",
        "hak=10\n",
        "deneme=0\n",
        "skor=100\n",
        "\n",
        "while(hak>0):\n",
        "  sayitahmin=int(input(\"Bir sayı tahmin et: \"))\n",
        "  if(sayitahmin<1 or sayitahmin>100):\n",
        "    print(\"Lütfen 1 ile 100 arasında bir sayı girin\")\n",
        "    continue\n",
        "  if(sayitahmin==dogrunumara):\n",
        "    print(\"Tebrikler doğru bildiniz\")\n",
        "    break\n",
        "  if(sayitahmin<dogrunumara):\n",
        "    print(\"Tahmininiz doğru değil,daha büyük bir sayı deneyin\")\n",
        "  if(sayitahmin>dogrunumara):\n",
        "    print(\"Tahmininiz doğru değil,daha küçük bir sayı deneyin\")\n",
        "  if(sayitahmin != dogrunumara):\n",
        "    print(\"Maalesef sayıyı yanlış bildiniz\")\n",
        "    hak-=1\n",
        "    deneme+=1\n",
        "    skor-=10\n",
        "    print(f\"Kalan hakkınız: {hak}\")\n",
        "    print(f\"{deneme} deneme yaptınız.\")\n",
        "    print(f\"Kalan Skorunuz:{skor}\")\n",
        "if(hak==0):\n",
        "   print(\"Hakkınız kalmadı, oyunu kaybettiniz\")\n",
        "   print(f\"Doğru sayı:{dogrunumara}\")\n",
        "\n",
        "\n"
      ]
    },
    {
      "cell_type": "markdown",
      "source": [
        "# **HESAP MAKİNESİ**"
      ],
      "metadata": {
        "id": "3Ipz5cjutOaV"
      }
    },
    {
      "cell_type": "code",
      "execution_count": null,
      "metadata": {
        "colab": {
          "base_uri": "https://localhost:8080/"
        },
        "id": "4PTn5og29vw3",
        "outputId": "d3bb5366-0e16-4e33-bd94-a937999b4bc9"
      },
      "outputs": [
        {
          "output_type": "stream",
          "name": "stdout",
          "text": [
            "Birinci sayıyı girin: 6\n",
            "İkinci sayıyı girin: 7\n",
            "1. Toplama\n",
            "2. Çıkarma\n",
            "3. Çarpma\n",
            "4. Bölme\n",
            "5. Karekökünü alma\n",
            "6. Karesini alma\n",
            "7. Faktöriyel alma\n",
            "8. Kuvvetini alma\n",
            "9. Çıkış\n",
            "Yapmak istediğiniz işlemi seçin (1-9): 1\n",
            "6 7 toplamı:  13.0\n",
            "1. Toplama\n",
            "2. Çıkarma\n",
            "3. Çarpma\n",
            "4. Bölme\n",
            "5. Karekökünü alma\n",
            "6. Karesini alma\n",
            "7. Faktöriyel alma\n",
            "8. Kuvvetini alma\n",
            "9. Çıkış\n",
            "Yapmak istediğiniz işlemi seçin (1-9): 8\n",
            "6 7 kuvveti:  279936.0\n",
            "7 6 kuvveti:  117649.0\n",
            "1. Toplama\n",
            "2. Çıkarma\n",
            "3. Çarpma\n",
            "4. Bölme\n",
            "5. Karekökünü alma\n",
            "6. Karesini alma\n",
            "7. Faktöriyel alma\n",
            "8. Kuvvetini alma\n",
            "9. Çıkış\n",
            "Yapmak istediğiniz işlemi seçin (1-9): 9\n",
            "Çıkılıyor...\n"
          ]
        }
      ],
      "source": [
        "#Hesap Makinesi\n",
        "# Kullanıcıdan iki sayı ve işlem türünü alır\n",
        "# ve sonucu ekrana yazdırır.\n",
        "# Kullanıcıdan iki sayı alır\n",
        "from math import sqrt,factorial\n",
        "sayi1 = float(input(\"Birinci sayıyı girin: \"))\n",
        "sayi2 = float(input(\"İkinci sayıyı girin: \"))\n",
        "\n",
        "while(True):\n",
        "    print(\"1. Toplama\")\n",
        "    print(\"2. Çıkarma\")\n",
        "    print(\"3. Çarpma\")\n",
        "    print(\"4. Bölme\")\n",
        "    print(\"5. Karekökünü alma\")\n",
        "    print(\"6. Karesini alma\")\n",
        "    print(\"7. Faktöriyel alma\")\n",
        "    print(\"8. Kuvvetini alma\")\n",
        "    print(\"9. Çıkış\")\n",
        "    islem= input(\"Yapmak istediğiniz işlemi seçin (1-9): \")\n",
        "    if islem not in ['1','2','3','4','5','6','7','8','9']:\n",
        "        print(\"Geçersiz işlem. Lütfen 1-9 arasında bir sayı giriniz\")\n",
        "    if islem == '1':\n",
        "        sonuc = sayi1 + sayi2\n",
        "        print(int(sayi1),int(sayi2),\"toplamı: \", sonuc)\n",
        "    if islem == '2':\n",
        "        sonuc = sayi1 - sayi2\n",
        "        print(int(sayi1),int(sayi2),\"kalanı: \", sonuc)\n",
        "\n",
        "        sonuc2 = sayi2 - sayi1\n",
        "        print(int(sayi2),int(sayi1),\"kalanı: \", sonuc2)\n",
        "\n",
        "    if islem == '3':\n",
        "        sonuc = sayi1 * sayi2\n",
        "        print(int(sayi1),int(sayi2),\"çarpımı: \", sonuc)\n",
        "    if islem == '4':\n",
        "        if sayi2 != 0:\n",
        "            sonuc = sayi1 / sayi2\n",
        "            print(int(sayi1),int(sayi2),\"bölümü: \", sonuc)\n",
        "        else:\n",
        "            print(\"Bir sayıyı sıfıra bölemezsiniz.\")\n",
        "        if sayi1 != 0:\n",
        "            sonuc = sayi2 / sayi1\n",
        "            print(int(sayi2),int(sayi1),\"bölümü: \", sonuc)\n",
        "    if islem == '5':\n",
        "        if sayi1 >= 0:\n",
        "            sonuc = sqrt(sayi1)\n",
        "            print(int(sayi1),\"karekökü: \", sonuc)\n",
        "        if sayi2 >= 0:\n",
        "            sonuc = sqrt(sayi2)\n",
        "            print(int(sayi2),\"karekökü: \", sonuc)\n",
        "    if islem == '6':\n",
        "        if sayi1 >= 0:\n",
        "            sonuc = sayi1 ** 2\n",
        "            print(int(sayi1),\"karesi: \", sonuc)\n",
        "        if sayi2 >= 0:\n",
        "            sonuc = sayi2 ** 2\n",
        "            print(int(sayi2),\"karesi: \", sonuc)\n",
        "    if islem == '7':\n",
        "        if sayi1==0 or sayi1==1:\n",
        "            sonuc = 1\n",
        "        elif sayi1 < 0:\n",
        "            print(\"Negatif sayının faktöriyeli tanımsızdır.\")\n",
        "        else:\n",
        "            sonuc=factorial(int(sayi1))\n",
        "            print(int(sayi1),\"faktöriyeli: \",sonuc)\n",
        "        if sayi2==0 or sayi2==1:\n",
        "            sonuc = 1\n",
        "        elif sayi2 < 0:\n",
        "            print(\"Negatif sayının faktöriyeli tanımsızdır.\")\n",
        "        else:\n",
        "            sonuc = factorial(int(sayi2))\n",
        "            print(int(sayi2),\"faktöriyeli: \",sonuc)\n",
        "    if islem == '8':\n",
        "        sonuc=pow(sayi1, sayi2)\n",
        "        print(int(sayi1),int(sayi2),\"kuvveti: \", sonuc)\n",
        "\n",
        "        sonuc2=pow(sayi2, sayi1)\n",
        "        print(int(sayi2),int(sayi1),\"kuvveti: \", sonuc2)\n",
        "    if islem == '9':\n",
        "        print(\"Çıkılıyor...\")\n",
        "        break"
      ]
    },
    {
      "cell_type": "markdown",
      "source": [
        "# **DÖVİZ ÇEVİRİCİSİ**"
      ],
      "metadata": {
        "id": "t0mG3vNftUjD"
      }
    },
    {
      "cell_type": "code",
      "execution_count": null,
      "metadata": {
        "id": "du1H3aODEhJZ",
        "colab": {
          "base_uri": "https://localhost:8080/"
        },
        "outputId": "32100f87-e34f-4f6a-9998-fc177f4c7097"
      },
      "outputs": [
        {
          "name": "stdout",
          "output_type": "stream",
          "text": [
            "1. Dolar-Tl\n",
            "2. Euro-Tl\n",
            "3. Sterlin-Tl\n",
            "4. Tl-Dolar\n",
            "5. Tl-Euro\n",
            "6. Tl-Sterlin\n",
            "7. Çıkış\n",
            "Miktarı girin: -1\n"
          ]
        }
      ],
      "source": [
        "#Döviz çevirisi\n",
        "#Kullanıcıdan bir değer alır.\n",
        "#Döviz karşılığını ekrana yazdırır.\n",
        "dolar_kuru=38.97\n",
        "euro_kuru=44.34\n",
        "sterlin_kuru=52.86\n",
        "tl_dolar=0.026\n",
        "tl_euro=0.022\n",
        "tl_sterlin=0.019\n",
        "while(True):\n",
        "    print(\"1. Dolar-Tl\")\n",
        "    print(\"2. Euro-Tl\")\n",
        "    print(\"3. Sterlin-Tl\")\n",
        "    print(\"4. Tl-Dolar\")\n",
        "    print(\"5. Tl-Euro\")\n",
        "    print(\"6. Tl-Sterlin\")\n",
        "    print(\"7. Çıkış\")\n",
        "    miktar=float(input(\"Miktarı girin: \"))\n",
        "    if miktar == -1:\n",
        "      break\n",
        "    if miktar==0:\n",
        "        print(\"Miktar sıfır olamaz.Lütfen tekrar deneyiniz.\")\n",
        "        continue\n",
        "    if miktar<-1:\n",
        "        print(\"Miktar negatif olamaz.Lütfen tekrar deneyiniz.\")\n",
        "        continue\n",
        "    islem= input(\"Yapmak istediğiniz işlemi seçin (1-7): \")\n",
        "    if islem not in ['1','2','3','4','5','6','7']:\n",
        "        print(\"Geçersiz işlem. Lütfen 1-7 arasında bir sayı giriniz\")\n",
        "    elif islem == \"1\":\n",
        "        sonuc=miktar*dolar_kuru\n",
        "        print(f\"{miktar} Dolar={sonuc} Tl\")\n",
        "    elif islem == \"2\":\n",
        "        sonuc=miktar*euro_kuru\n",
        "        print(f\"{miktar} Euro={sonuc} Tl\")\n",
        "    elif islem == \"3\":\n",
        "        sonuc=miktar*sterlin_kuru\n",
        "        print(f\"{miktar} Sterlin={sonuc} Tl\")\n",
        "    elif islem == \"4\":\n",
        "        sonuc=miktar*tl_dolar\n",
        "        print(f\"{miktar} Tl={sonuc} Dolar\")\n",
        "    elif islem == \"5\":\n",
        "        sonuc=miktar*tl_euro\n",
        "        print(f\"{miktar} Tl={sonuc} Euro\")\n",
        "    elif islem == \"6\":\n",
        "        sonuc=miktar*tl_sterlin\n",
        "        print(f\"{miktar} Tl={sonuc} Sterlin\")\n",
        "    elif islem == \"7\":\n",
        "        print(\"Çıkılıyor...\")\n",
        "        break\n",
        "\n",
        "\n",
        "\n",
        "\n"
      ]
    },
    {
      "cell_type": "markdown",
      "source": [
        "# **BASİT METİN ANALİZ ARACI**"
      ],
      "metadata": {
        "id": "HJkYiweLtayK"
      }
    },
    {
      "cell_type": "code",
      "source": [
        "#Basit Metin Analiz Aracı\n",
        "print(\"Analiz edilecek metin dosyasının yolunu girin.\")\n",
        "# Kullanıcıdan dosya yolunu al\n",
        "metin=input_file = input(\"Lütfen analiz edilecek metin dosyasının yolunu girin: \")\n",
        "# Dosya yolunun boş olup olmadığını kontrol et\n",
        "# Eğer boşsa, kullanıcıya hata mesajı göster\n",
        "# ve programı sonlandır\n",
        "if metin == \"\":\n",
        "    print(\"Dosya yolu boş, lütfen geçerli bir dosya yolu girin.\")\n",
        "    exit()\n",
        "else:\n",
        "    print(\"Dosya yolu:\", metin)\n",
        "    # Dosyayı aç ve içeriğini oku\n",
        "    # Dosya yolunu boşluklara göre ayır\n",
        "    # ve kelimeleri liste olarak saklayıp sayısını yazdır\n",
        "    words = metin.split()\n",
        "    kelime_sayisi = len(words)\n",
        "# Dosya okuma işlemi\n",
        "print(\"Dosyalar başarıyla okundu ve analiz başladı.\")\n",
        "\n",
        "print(metin.count(\",\"), \"adet ',' bulundu.\")\n",
        "print(metin.count(\".\"), \"adet '.' bulundu.\")\n",
        "print(metin.count(\"?\"), \"adet '?' bulundu.\")\n",
        "\n",
        "#print(metin.count(\" \"), \"adet '' bulundu.\")\n",
        "#print(metin.count(\" \"), \"adet '' bulundu.\")\n",
        "\n",
        "\n",
        "#Kelime analizi sonucu\n",
        "print(\"Kelime analizi sonucu:\", kelime_sayisi, \"kelime bulundu.\")\n",
        "print(\"Kelimeler şunlardır:\", words)"
      ],
      "metadata": {
        "colab": {
          "base_uri": "https://localhost:8080/"
        },
        "id": "Q2O2mfSji0fq",
        "outputId": "db13de76-403a-4517-f758-5c2266749465"
      },
      "execution_count": null,
      "outputs": [
        {
          "output_type": "stream",
          "name": "stdout",
          "text": [
            "Analiz edilecek metin dosyasının yolunu girin.\n",
            "Lütfen analiz edilecek metin dosyasının yolunu girin: Odaya girdiğimiz zaman, kimseye görünmemek için bir köşeye çekilip oturdum. Herkesin neşesi, her zamanki gibiydi. Yalnız, arada bir kendimi unutup ta gülmeye kalktığım zamanlar, içimde bir yerlerde acı bir burkulma oluyordu. Bu, sanki içimi yırtacak, oradan bir şeyler fırlatıp atacaktı. En iyisi gülmemekti. Hatta konuşmamak. Hatta var olmamak.\n",
            "Dosya yolu: Odaya girdiğimiz zaman, kimseye görünmemek için bir köşeye çekilip oturdum. Herkesin neşesi, her zamanki gibiydi. Yalnız, arada bir kendimi unutup ta gülmeye kalktığım zamanlar, içimde bir yerlerde acı bir burkulma oluyordu. Bu, sanki içimi yırtacak, oradan bir şeyler fırlatıp atacaktı. En iyisi gülmemekti. Hatta konuşmamak. Hatta var olmamak.\n",
            "Dosyalar başarıyla okundu ve analiz başladı.\n",
            "6 adet ',' bulundu.\n",
            "7 adet '.' bulundu.\n",
            "0 adet '?' bulundu.\n",
            "Kelime analizi sonucu: 48 kelime bulundu.\n",
            "Kelimeler şunlardır: ['Odaya', 'girdiğimiz', 'zaman,', 'kimseye', 'görünmemek', 'için', 'bir', 'köşeye', 'çekilip', 'oturdum.', 'Herkesin', 'neşesi,', 'her', 'zamanki', 'gibiydi.', 'Yalnız,', 'arada', 'bir', 'kendimi', 'unutup', 'ta', 'gülmeye', 'kalktığım', 'zamanlar,', 'içimde', 'bir', 'yerlerde', 'acı', 'bir', 'burkulma', 'oluyordu.', 'Bu,', 'sanki', 'içimi', 'yırtacak,', 'oradan', 'bir', 'şeyler', 'fırlatıp', 'atacaktı.', 'En', 'iyisi', 'gülmemekti.', 'Hatta', 'konuşmamak.', 'Hatta', 'var', 'olmamak.']\n"
          ]
        }
      ]
    },
    {
      "cell_type": "markdown",
      "source": [
        "# **BASİT HİKAYE ANLATICI**\n"
      ],
      "metadata": {
        "id": "l-gTydFrAvDg"
      }
    },
    {
      "cell_type": "code",
      "source": [
        "#METİN MACERASI OYUNU\n",
        "\n",
        "print(\"Karanlık,nemli bir ormanda kayboldunuz.Nerede olduğunuzu bilmiyorsunuz.\")\n",
        "print(\"Biraz ilerledikten sonra bir yol ayrımına geliyorsunuz.\")\n",
        "print(\"Bir yön seçmeniz gerekiyor.Sağda patika var,solda ise çalılıklarla kaplı bir yol var.\")\n",
        "secim1_gecerli = False\n",
        "while not secim1_gecerli:\n",
        "    print(\"\\nNe yaparsın?\")\n",
        "    print(\"1. Patikadan ilerle.\")\n",
        "    print(\"2. Çalılıklara dal.\")\n",
        "    secim = input(\"Seçimin (1 veya 2): \")\n",
        "\n",
        "    if secim == \"1\":\n",
        "        print(\"Patikadan ilerliyorsun...\")\n",
        "        print(\"Bir su birikintisine ulaşıyorsun.\")\n",
        "        print(\"Çok su içmek istiyorsun ama suyun temiz olup olmadığını bilmiyorsun.\")\n",
        "        secim2 = input(\"Su içmek ister misin? (Evet/Hayır): \").strip().lower()\n",
        "        if secim2 == \"evet\":\n",
        "            print(\"Şanslısın, su temizdi ve içtin.\")\n",
        "            print(\"Biraz dinlenip yola devam ediyorsun.\")\n",
        "        else:\n",
        "            print(\"Suyu içmiyorsun ve susuz bir şekilde yola devam ediyorsun.\")\n",
        "        print(\"Bir süre sonra bir ağacın altına oturuyorsun.\")\n",
        "        secim3 = input(\"Ağacın altında dinlenmek ister misin? (Evet/Hayır): \").strip().lower()\n",
        "        if secim3 == \"evet\":\n",
        "            print(\"Ağacın altında dinleniyorsun ve biraz uyuyorsun.\")\n",
        "            print(\"Uyurken bir ayı seni fark ediyor ve saldırıyor!\")\n",
        "            print(\"Maalesef ayı seni yakaladı ve oyunun sonu geldi.\")\n",
        "            break\n",
        "        if secim3 == \"hayır\":\n",
        "            print(\"Ağacın altında dinlenmiyorsun ve yola devam ediyorsun.\")\n",
        "            print(\"Bir süre sonra ahşap bir evle karşılaşıyorsun.\")\n",
        "            print(\"Şanslısın, evin kapısı açık ve içeri girebiliyorsun.\")\n",
        "            print(\"Ev boş ve içeride bir yatak ve biraz yemek var.\")\n",
        "            print(\"Bir geceliğine dinleniyorsun.\")\n",
        "        secim1_gecerli = True\n",
        "\n"
      ],
      "metadata": {
        "id": "BMz6ELi4A00p",
        "outputId": "dbbf41ab-acbb-4c46-f530-f6b67cf6ee53",
        "colab": {
          "base_uri": "https://localhost:8080/"
        }
      },
      "execution_count": null,
      "outputs": [
        {
          "output_type": "stream",
          "name": "stdout",
          "text": [
            "Karanlık,nemli bir ormanda kayboldunuz.Nerede olduğunuzu bilmiyorsunuz.\n",
            "Biraz ilerledikten sonra bir yol ayrımına geliyorsunuz.\n",
            "Bir yön seçmeniz gerekiyor.Sağda patika var,solda ise çalılıklarla kaplı bir yol var.\n",
            "\n",
            "Ne yaparsın?\n",
            "1. Patikadan ilerle.\n",
            "2. Çalılıklara dal.\n",
            "Seçimin (1 veya 2): 1\n",
            "Patikadan ilerliyorsun...\n",
            "Bir su birikintisine ulaşıyorsun.\n",
            "Çok su içmek istiyorsun ama suyun temiz olup olmadığını bilmiyorsun.\n",
            "Su içmek ister misin? (Evet/Hayır): evet\n",
            "Şanslısın, su temizdi ve içtin.\n",
            "Biraz dinlenip yola devam ediyorsun.\n",
            "Bir süre sonra bir ağacın altına oturuyorsun.\n"
          ]
        }
      ]
    }
  ],
  "metadata": {
    "colab": {
      "provenance": []
    },
    "kernelspec": {
      "display_name": "Python 3",
      "name": "python3"
    },
    "language_info": {
      "name": "python"
    }
  },
  "nbformat": 4,
  "nbformat_minor": 0
}